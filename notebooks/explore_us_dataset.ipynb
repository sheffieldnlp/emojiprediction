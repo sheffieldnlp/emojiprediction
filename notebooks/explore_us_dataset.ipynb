{
 "cells": [
  {
   "cell_type": "code",
   "execution_count": 1,
   "metadata": {},
   "outputs": [],
   "source": [
    "import numpy as np\n",
    "from collections import defaultdict, Counter\n",
    "import matplotlib.pyplot as plt\n",
    "import seaborn as sns"
   ]
  },
  {
   "cell_type": "markdown",
   "metadata": {
    "collapsed": true
   },
   "source": [
    "Obtain data and related stuff"
   ]
  },
  {
   "cell_type": "code",
   "execution_count": 2,
   "metadata": {},
   "outputs": [
    {
     "name": "stdout",
     "output_type": "stream",
     "text": [
      "484384 484384\n"
     ]
    }
   ],
   "source": [
    "train_X = [s.strip() for s in open('../crawler/data/tweet_en_all.txt.text')]\n",
    "train_Y = [l.strip() for l in open('../crawler/data/tweet_en_all.txt.labels')]\n",
    "print len(train_X), len(train_Y)"
   ]
  },
  {
   "cell_type": "code",
   "execution_count": 3,
   "metadata": {},
   "outputs": [
    {
     "data": {
      "image/png": "[encoded data removed]",
      "text/plain": [
       "<matplotlib.figure.Figure at 0x7f3bf3bf8590>"
      ]
     },
     "metadata": {},
     "output_type": "display_data"
    }
   ],
   "source": [
    "label_freq = list(dict(Counter(map(int, train_Y))).items())\n",
    "bins, hist = np.array([w[0] for w in label_freq]), np.array([w[1] for w in label_freq])\n",
    "\n",
    "width = 0.9 * (bins[1] - bins[0])\n",
    "fig, ax = plt.subplots(figsize=(8,5))\n",
    "ax.bar(bins, hist, align='center', width=width)\n",
    "ax.set_xticks(bins)\n",
    "plt.xlabel('Labels')\n",
    "plt.ylabel('Frequency')\n",
    "plt.show()"
   ]
  },
  {
   "cell_type": "markdown",
   "metadata": {},
   "source": [
    "# Labels:"
   ]
  },
  {
   "cell_type": "code",
   "execution_count": 4,
   "metadata": {
    "scrolled": true
   },
   "outputs": [
    {
     "name": "stdout",
     "output_type": "stream",
     "text": [
      "0 \t:\t❤ \t_red_heart_\n",
      "1 \t:\t😍 \t_smiling_face_with_hearteyes_\n",
      "2 \t:\t😂 \t_face_with_tears_of_joy_\n",
      "3 \t:\t💕 \t_two_hearts_\n",
      "4 \t:\t🔥 \t_fire_\n",
      "5 \t:\t😊 \t_smiling_face_with_smiling_eyes_\n",
      "6 \t:\t😎 \t_smiling_face_with_sunglasses_\n",
      "7 \t:\t✨ \t_sparkles_\n",
      "8 \t:\t💙 \t_blue_heart_\n",
      "9 \t:\t😘 \t_face_blowing_a_kiss_\n",
      "10 \t:\t📷 \t_camera_\n",
      "11 \t:\t🇺🇸 \t_United_States_\n",
      "12 \t:\t☀ \t_sun_\n",
      "13 \t:\t💜 \t_purple_heart_\n",
      "14 \t:\t😉 \t_winking_face_\n",
      "15 \t:\t💯 \t_hundred_points_\n",
      "16 \t:\t😁 \t_beaming_face_with_smiling_eyes_\n",
      "17 \t:\t🎄 \t_Christmas_tree_\n",
      "18 \t:\t📸 \t_camera_with_flash_\n",
      "19 \t:\t😜 \t_winking_face_with_tongue_\n"
     ]
    }
   ],
   "source": [
    "mapping = [w.strip().split() for w in open('../../../mapping/us_mapping.txt')]\n",
    "mdict = {}\n",
    "\n",
    "for m in mapping:\n",
    "    mdict[int(m[0])] = m[1]\n",
    "    print m[0], '\\t:\\t', m[1], '\\t', m[2]\n",
    "    "
   ]
  },
  {
   "cell_type": "code",
   "execution_count": 5,
   "metadata": {},
   "outputs": [
    {
     "data": {
      "image/png": "[encoded data removed]",
      "text/plain": [
       "<matplotlib.figure.Figure at 0x7f3c2c3071d0>"
      ]
     },
     "metadata": {},
     "output_type": "display_data"
    }
   ],
   "source": [
    "label_freq = list(dict(Counter(map(int, train_Y))).items())\n",
    "bins, hist = np.array([w[0] for w in label_freq]), np.array([w[1] for w in label_freq])\n",
    "\n",
    "width = 0.9 * (bins[1] - bins[0])\n",
    "fig, ax = plt.subplots(figsize=(8,5))\n",
    "ax.bar(bins, hist, align='center', width=width)\n",
    "bbins = [mdict[b].decode('utf-8') for b in bins]\n",
    "ax.set_xticks(bins)\n",
    "ax.set_xticklabels(bbins)\n",
    "plt.xlabel('Labels')\n",
    "plt.ylabel('Frequency')\n",
    "plt.show()"
   ]
  },
  {
   "cell_type": "markdown",
   "metadata": {},
   "source": [
    "Extract baseline features"
   ]
  },
  {
   "cell_type": "code",
   "execution_count": 7,
   "metadata": {
    "collapsed": true
   },
   "outputs": [],
   "source": [
    "from sklearn.feature_extraction.text import TfidfVectorizer\n",
    "from sklearn.feature_extraction.text import HashingVectorizer\n",
    "from sklearn.feature_extraction.text import CountVectorizer"
   ]
  },
  {
   "cell_type": "code",
   "execution_count": 14,
   "metadata": {},
   "outputs": [],
   "source": [
    "hashvectorizer = HashingVectorizer(encoding='utf-8', decode_error='ignore',\n",
    "                                  strip_accents='unicode', analyzer='word',\n",
    "                                  lowercase=True).fit(train_X)\n",
    "X_hv_train = hashvectorizer.transform(train_X)"
   ]
  },
  {
   "cell_type": "code",
   "execution_count": 15,
   "metadata": {},
   "outputs": [],
   "source": [
    "countvectorizer = CountVectorizer(encoding='utf-8', decode_error='ignore',\n",
    "                                  strip_accents='unicode', analyzer='word',\n",
    "                                  lowercase=True).fit(train_X)\n",
    "X_cv_train = countvectorizer.transform(train_X)"
   ]
  },
  {
   "cell_type": "code",
   "execution_count": 17,
   "metadata": {},
   "outputs": [],
   "source": [
    "tfidfvectorizer = TfidfVectorizer(encoding='utf-8', decode_error='ignore',\n",
    "                                  strip_accents='unicode', analyzer='word',\n",
    "                                  lowercase=True).fit(train_X)\n",
    "X_tf_train = tfidfvectorizer.transform(train_X)"
   ]
  },
  {
   "cell_type": "code",
   "execution_count": 18,
   "metadata": {},
   "outputs": [
    {
     "data": {
      "text/plain": [
       "((484384, 292961), (484384, 292961), (484384, 1048576))"
      ]
     },
     "execution_count": 18,
     "metadata": {},
     "output_type": "execute_result"
    }
   ],
   "source": [
    "X_cv_train.shape, X_tf_train.shape, X_hv_train.shape"
   ]
  },
  {
   "cell_type": "markdown",
   "metadata": {},
   "source": [
    "Baseline classifiers"
   ]
  },
  {
   "cell_type": "code",
   "execution_count": 36,
   "metadata": {
    "collapsed": true
   },
   "outputs": [],
   "source": [
    "from sklearn.ensemble import RandomForestClassifier\n",
    "from sklearn.linear_model import LogisticRegression, SGDClassifier\n",
    "from sklearn.svm import SVC\n",
    "import sklearn.metrics as skm"
   ]
  },
  {
   "cell_type": "code",
   "execution_count": 30,
   "metadata": {},
   "outputs": [],
   "source": [
    "#clf_rf = RandomForestClassifier(n_estimators=1000,verbose=True)\n",
    "#clf_rf.fit(X_cv_train, train_Y)"
   ]
  },
  {
   "cell_type": "code",
   "execution_count": 31,
   "metadata": {},
   "outputs": [],
   "source": [
    "# clf_lr = LogisticRegressionCV(fit_intercept=True, verbose=True)\n",
    "# clf_lr.fit(X_cv_train, train_Y)"
   ]
  },
  {
   "cell_type": "code",
   "execution_count": 33,
   "metadata": {},
   "outputs": [
    {
     "name": "stdout",
     "output_type": "stream",
     "text": [
      "-- Epoch 1\n",
      "Norm: 12.90, NNZs: 974, Bias: -1.000521, T: 484384, Avg. loss: 0.493241\n",
      "Total training time: 0.28 seconds.\n",
      "-- Epoch 2\n",
      "Norm: 9.38, NNZs: 68, Bias: -1.000310, T: 968768, Avg. loss: 0.434769\n",
      "Total training time: 0.50 seconds.\n",
      "-- Epoch 3\n",
      "Norm: 7.74, NNZs: 76, Bias: -1.000012, T: 1453152, Avg. loss: 0.434477\n",
      "Total training time: 0.75 seconds.\n",
      "-- Epoch 4\n",
      "Norm: 6.74, NNZs: 74, Bias: -1.000014, T: 1937536, Avg. loss: 0.434363\n",
      "Total training time: 1.06 seconds.\n",
      "-- Epoch 5\n",
      "Norm: 6.06, NNZs: 76, Bias: -1.000012, T: 2421920, Avg. loss: 0.434285\n",
      "Total training time: 1.35 seconds.\n",
      "-- Epoch 1\n"
     ]
    },
    {
     "name": "stderr",
     "output_type": "stream",
     "text": [
      "[Parallel(n_jobs=1)]: Done   1 out of   1 | elapsed:    1.4s remaining:    0.0s\n"
     ]
    },
    {
     "name": "stdout",
     "output_type": "stream",
     "text": [
      "Norm: 13.99, NNZs: 1023, Bias: -1.000510, T: 484384, Avg. loss: 0.248172\n",
      "Total training time: 0.26 seconds.\n",
      "-- Epoch 2\n",
      "Norm: 10.19, NNZs: 87, Bias: -1.000005, T: 968768, Avg. loss: 0.210224\n",
      "Total training time: 0.50 seconds.\n",
      "-- Epoch 3\n",
      "Norm: 8.42, NNZs: 93, Bias: -1.000020, T: 1453152, Avg. loss: 0.209987\n",
      "Total training time: 0.80 seconds.\n",
      "-- Epoch 4\n",
      "Norm: 7.33, NNZs: 90, Bias: -1.000022, T: 1937536, Avg. loss: 0.209910\n",
      "Total training time: 1.12 seconds.\n",
      "-- Epoch 5\n",
      "Norm: 6.58, NNZs: 78, Bias: -1.000020, T: 2421920, Avg. loss: 0.209863\n",
      "Total training time: 1.44 seconds.\n",
      "-- Epoch 1\n"
     ]
    },
    {
     "name": "stderr",
     "output_type": "stream",
     "text": [
      "[Parallel(n_jobs=1)]: Done   2 out of   2 | elapsed:    2.8s remaining:    0.0s\n"
     ]
    },
    {
     "name": "stdout",
     "output_type": "stream",
     "text": [
      "Norm: 16.52, NNZs: 1455, Bias: -1.015784, T: 484384, Avg. loss: 0.102625\n",
      "Total training time: 0.31 seconds.\n",
      "-- Epoch 2\n",
      "Norm: 12.49, NNZs: 259, Bias: -1.003280, T: 968768, Avg. loss: 0.066716\n",
      "Total training time: 0.55 seconds.\n",
      "-- Epoch 3\n",
      "Norm: 10.46, NNZs: 260, Bias: -1.000444, T: 1453152, Avg. loss: 0.066105\n",
      "Total training time: 0.81 seconds.\n",
      "-- Epoch 4\n",
      "Norm: 9.19, NNZs: 266, Bias: -1.001067, T: 1937536, Avg. loss: 0.065844\n",
      "Total training time: 1.12 seconds.\n",
      "-- Epoch 5\n",
      "Norm: 8.30, NNZs: 306, Bias: -1.001263, T: 2421920, Avg. loss: 0.065719\n",
      "Total training time: 1.42 seconds.\n",
      "-- Epoch 1\n"
     ]
    },
    {
     "name": "stderr",
     "output_type": "stream",
     "text": [
      "[Parallel(n_jobs=1)]: Done   3 out of   3 | elapsed:    4.2s remaining:    0.0s\n"
     ]
    },
    {
     "name": "stdout",
     "output_type": "stream",
     "text": [
      "Norm: 16.72, NNZs: 1140, Bias: -1.052155, T: 484384, Avg. loss: 0.074290\n",
      "Total training time: 0.27 seconds.\n",
      "-- Epoch 2\n",
      "Norm: 13.79, NNZs: 503, Bias: -1.007011, T: 968768, Avg. loss: 0.052620\n",
      "Total training time: 0.57 seconds.\n",
      "-- Epoch 3\n",
      "Norm: 12.50, NNZs: 536, Bias: -1.005105, T: 1453152, Avg. loss: 0.052023\n",
      "Total training time: 0.82 seconds.\n",
      "-- Epoch 4\n",
      "Norm: 11.77, NNZs: 506, Bias: -1.002794, T: 1937536, Avg. loss: 0.051794\n",
      "Total training time: 1.11 seconds.\n",
      "-- Epoch 5\n",
      "Norm: 11.27, NNZs: 567, Bias: -1.004656, T: 2421920, Avg. loss: 0.051725\n",
      "Total training time: 1.41 seconds.\n",
      "-- Epoch 1\n"
     ]
    },
    {
     "name": "stderr",
     "output_type": "stream",
     "text": [
      "[Parallel(n_jobs=1)]: Done   4 out of   4 | elapsed:    5.7s remaining:    0.0s\n"
     ]
    },
    {
     "name": "stdout",
     "output_type": "stream",
     "text": [
      "Norm: 15.65, NNZs: 1101, Bias: -1.183425, T: 484384, Avg. loss: 0.085818\n",
      "Total training time: 0.32 seconds.\n",
      "-- Epoch 2\n",
      "Norm: 12.08, NNZs: 428, Bias: -1.026392, T: 968768, Avg. loss: 0.057563\n",
      "Total training time: 0.62 seconds.\n",
      "-- Epoch 3\n",
      "Norm: 10.38, NNZs: 396, Bias: -1.012315, T: 1453152, Avg. loss: 0.056352\n",
      "Total training time: 0.91 seconds.\n",
      "-- Epoch 4\n",
      "Norm: 9.39, NNZs: 423, Bias: -1.010102, T: 1937536, Avg. loss: 0.056001\n",
      "Total training time: 1.21 seconds.\n",
      "-- Epoch 5\n",
      "Norm: 8.65, NNZs: 422, Bias: -1.008111, T: 2421920, Avg. loss: 0.055860\n",
      "Total training time: 1.50 seconds.\n",
      "-- Epoch 1\n"
     ]
    },
    {
     "name": "stderr",
     "output_type": "stream",
     "text": [
      "[Parallel(n_jobs=1)]: Done   5 out of   5 | elapsed:    7.2s remaining:    0.0s\n"
     ]
    },
    {
     "name": "stdout",
     "output_type": "stream",
     "text": [
      "Norm: 18.71, NNZs: 937, Bias: -1.000064, T: 484384, Avg. loss: 0.083879\n",
      "Total training time: 0.26 seconds.\n",
      "-- Epoch 2\n",
      "Norm: 14.14, NNZs: 127, Bias: -1.000136, T: 968768, Avg. loss: 0.052250\n",
      "Total training time: 0.55 seconds.\n",
      "-- Epoch 3\n",
      "Norm: 11.89, NNZs: 155, Bias: -1.000252, T: 1453152, Avg. loss: 0.052072\n",
      "Total training time: 0.83 seconds.\n",
      "-- Epoch 4\n",
      "Norm: 10.52, NNZs: 153, Bias: -1.000043, T: 1937536, Avg. loss: 0.051951\n",
      "Total training time: 1.04 seconds.\n",
      "-- Epoch 5\n",
      "Norm: 9.56, NNZs: 145, Bias: -0.999994, T: 2421920, Avg. loss: 0.051897\n",
      "Total training time: 1.30 seconds.\n",
      "-- Epoch 1\n"
     ]
    },
    {
     "name": "stderr",
     "output_type": "stream",
     "text": [
      "[Parallel(n_jobs=1)]: Done   6 out of   6 | elapsed:    8.5s remaining:    0.0s\n"
     ]
    },
    {
     "name": "stdout",
     "output_type": "stream",
     "text": [
      "Norm: 18.89, NNZs: 958, Bias: -1.001896, T: 484384, Avg. loss: 0.090746\n",
      "Total training time: 0.28 seconds.\n",
      "-- Epoch 2\n",
      "Norm: 14.30, NNZs: 97, Bias: -1.000054, T: 968768, Avg. loss: 0.055114\n",
      "Total training time: 0.60 seconds.\n",
      "-- Epoch 3\n",
      "Norm: 11.96, NNZs: 106, Bias: -1.000044, T: 1453152, Avg. loss: 0.054833\n",
      "Total training time: 0.93 seconds.\n",
      "-- Epoch 4\n",
      "Norm: 10.50, NNZs: 95, Bias: -1.000121, T: 1937536, Avg. loss: 0.054728\n",
      "Total training time: 1.22 seconds.\n",
      "-- Epoch 5\n",
      "Norm: 9.47, NNZs: 110, Bias: -1.000078, T: 2421920, Avg. loss: 0.054665\n",
      "Total training time: 1.52 seconds.\n",
      "-- Epoch 1\n"
     ]
    },
    {
     "name": "stderr",
     "output_type": "stream",
     "text": [
      "[Parallel(n_jobs=1)]: Done   7 out of   7 | elapsed:   10.0s remaining:    0.0s\n"
     ]
    },
    {
     "name": "stdout",
     "output_type": "stream",
     "text": [
      "Norm: 18.44, NNZs: 1147, Bias: -1.000783, T: 484384, Avg. loss: 0.079769\n",
      "Total training time: 0.32 seconds.\n",
      "-- Epoch 2\n",
      "Norm: 13.84, NNZs: 301, Bias: -1.000232, T: 968768, Avg. loss: 0.054894\n",
      "Total training time: 0.56 seconds.\n",
      "-- Epoch 3\n",
      "Norm: 11.65, NNZs: 328, Bias: -1.000105, T: 1453152, Avg. loss: 0.054477\n",
      "Total training time: 0.79 seconds.\n",
      "-- Epoch 4\n",
      "Norm: 10.31, NNZs: 343, Bias: -1.000112, T: 1937536, Avg. loss: 0.054296\n",
      "Total training time: 1.03 seconds.\n",
      "-- Epoch 5\n",
      "Norm: 9.39, NNZs: 358, Bias: -1.000458, T: 2421920, Avg. loss: 0.054192\n",
      "Total training time: 1.25 seconds.\n",
      "-- Epoch 1\n",
      "Norm: 18.76, NNZs: 902, Bias: -1.000508, T: 484384, Avg. loss: 0.088022\n",
      "Total training time: 0.21 seconds.\n",
      "-- Epoch 2\n",
      "Norm: 14.09, NNZs: 97, Bias: -1.000297, T: 968768, Avg. loss: 0.053577\n",
      "Total training time: 0.44 seconds.\n",
      "-- Epoch 3\n",
      "Norm: 11.77, NNZs: 109, Bias: -1.000725, T: 1453152, Avg. loss: 0.053341\n",
      "Total training time: 0.67 seconds.\n",
      "-- Epoch 4\n",
      "Norm: 10.31, NNZs: 114, Bias: -1.000001, T: 1937536, Avg. loss: 0.053255\n",
      "Total training time: 0.89 seconds.\n",
      "-- Epoch 5\n",
      "Norm: 9.29, NNZs: 133, Bias: -1.000055, T: 2421920, Avg. loss: 0.053194\n",
      "Total training time: 1.13 seconds.\n",
      "-- Epoch 1\n",
      "Norm: 14.55, NNZs: 913, Bias: -1.257052, T: 484384, Avg. loss: 0.062044\n",
      "Total training time: 0.26 seconds.\n",
      "-- Epoch 2\n",
      "Norm: 11.43, NNZs: 399, Bias: -1.022477, T: 968768, Avg. loss: 0.044921\n",
      "Total training time: 0.52 seconds.\n",
      "-- Epoch 3\n",
      "Norm: 10.05, NNZs: 378, Bias: -1.011247, T: 1453152, Avg. loss: 0.044415\n",
      "Total training time: 0.76 seconds.\n",
      "-- Epoch 4\n",
      "Norm: 9.26, NNZs: 389, Bias: -1.007381, T: 1937536, Avg. loss: 0.043972\n",
      "Total training time: 1.00 seconds.\n",
      "-- Epoch 5\n",
      "Norm: 8.69, NNZs: 364, Bias: -1.001825, T: 2421920, Avg. loss: 0.043909\n",
      "Total training time: 1.25 seconds.\n",
      "-- Epoch 1\n",
      "Norm: 17.33, NNZs: 1434, Bias: -1.019293, T: 484384, Avg. loss: 0.088887\n",
      "Total training time: 0.28 seconds.\n",
      "-- Epoch 2\n",
      "Norm: 13.03, NNZs: 253, Bias: -1.002117, T: 968768, Avg. loss: 0.055440\n",
      "Total training time: 0.51 seconds.\n",
      "-- Epoch 3\n",
      "Norm: 10.91, NNZs: 276, Bias: -1.000949, T: 1453152, Avg. loss: 0.054669\n",
      "Total training time: 0.82 seconds.\n",
      "-- Epoch 4\n",
      "Norm: 9.58, NNZs: 306, Bias: -1.002726, T: 1937536, Avg. loss: 0.054394\n",
      "Total training time: 1.11 seconds.\n",
      "-- Epoch 5\n",
      "Norm: 8.64, NNZs: 283, Bias: -1.000161, T: 2421920, Avg. loss: 0.054262\n",
      "Total training time: 1.43 seconds.\n",
      "-- Epoch 1\n",
      "Norm: 19.46, NNZs: 894, Bias: -0.999831, T: 484384, Avg. loss: 0.081778\n",
      "Total training time: 0.33 seconds.\n",
      "-- Epoch 2\n",
      "Norm: 14.57, NNZs: 99, Bias: -1.000050, T: 968768, Avg. loss: 0.050294\n",
      "Total training time: 0.64 seconds.\n",
      "-- Epoch 3\n",
      "Norm: 12.13, NNZs: 101, Bias: -1.000012, T: 1453152, Avg. loss: 0.050078\n",
      "Total training time: 0.97 seconds.\n",
      "-- Epoch 4\n",
      "Norm: 10.62, NNZs: 114, Bias: -1.000031, T: 1937536, Avg. loss: 0.049983\n",
      "Total training time: 1.26 seconds.\n",
      "-- Epoch 5\n",
      "Norm: 9.57, NNZs: 119, Bias: -1.000038, T: 2421920, Avg. loss: 0.049935\n",
      "Total training time: 1.56 seconds.\n",
      "-- Epoch 1\n",
      "Norm: 14.45, NNZs: 1158, Bias: -1.000056, T: 484384, Avg. loss: 0.236971\n",
      "Total training time: 0.28 seconds.\n",
      "-- Epoch 2\n",
      "Norm: 10.79, NNZs: 261, Bias: -1.000529, T: 968768, Avg. loss: 0.201944\n",
      "Total training time: 0.58 seconds.\n",
      "-- Epoch 3\n",
      "Norm: 9.11, NNZs: 267, Bias: -1.000060, T: 1453152, Avg. loss: 0.201545\n",
      "Total training time: 0.88 seconds.\n",
      "-- Epoch 4\n",
      "Norm: 8.09, NNZs: 277, Bias: -1.000013, T: 1937536, Avg. loss: 0.201334\n",
      "Total training time: 1.20 seconds.\n",
      "-- Epoch 5\n",
      "Norm: 7.40, NNZs: 288, Bias: -1.000041, T: 2421920, Avg. loss: 0.201233\n",
      "Total training time: 1.46 seconds.\n",
      "-- Epoch 1\n",
      "Norm: 15.38, NNZs: 816, Bias: -1.000191, T: 484384, Avg. loss: 0.146783\n",
      "Total training time: 0.21 seconds.\n",
      "-- Epoch 2\n",
      "Norm: 11.42, NNZs: 84, Bias: -1.000019, T: 968768, Avg. loss: 0.110468\n",
      "Total training time: 0.44 seconds.\n",
      "-- Epoch 3\n",
      "Norm: 9.49, NNZs: 87, Bias: -1.000607, T: 1453152, Avg. loss: 0.110299\n",
      "Total training time: 0.68 seconds.\n",
      "-- Epoch 4\n",
      "Norm: 8.30, NNZs: 88, Bias: -1.000062, T: 1937536, Avg. loss: 0.110202\n",
      "Total training time: 0.98 seconds.\n",
      "-- Epoch 5\n",
      "Norm: 7.47, NNZs: 79, Bias: -1.000021, T: 2421920, Avg. loss: 0.110165\n",
      "Total training time: 1.29 seconds.\n",
      "-- Epoch 1\n",
      "Norm: 15.46, NNZs: 1329, Bias: -1.004228, T: 484384, Avg. loss: 0.117503\n",
      "Total training time: 0.28 seconds.\n",
      "-- Epoch 2\n",
      "Norm: 11.89, NNZs: 410, Bias: -1.001392, T: 968768, Avg. loss: 0.090698\n",
      "Total training time: 0.51 seconds.\n",
      "-- Epoch 3\n",
      "Norm: 10.31, NNZs: 431, Bias: -1.000068, T: 1453152, Avg. loss: 0.090166\n",
      "Total training time: 0.75 seconds.\n",
      "-- Epoch 4\n",
      "Norm: 9.35, NNZs: 438, Bias: -1.001925, T: 1937536, Avg. loss: 0.089935\n",
      "Total training time: 0.99 seconds.\n",
      "-- Epoch 5\n",
      "Norm: 8.71, NNZs: 487, Bias: -1.001255, T: 2421920, Avg. loss: 0.089822\n",
      "Total training time: 1.23 seconds.\n",
      "-- Epoch 1\n",
      "Norm: 16.46, NNZs: 859, Bias: -1.000018, T: 484384, Avg. loss: 0.127590\n",
      "Total training time: 0.23 seconds.\n",
      "-- Epoch 2\n",
      "Norm: 12.21, NNZs: 64, Bias: -1.000322, T: 968768, Avg. loss: 0.094697\n",
      "Total training time: 0.46 seconds.\n",
      "-- Epoch 3\n",
      "Norm: 10.14, NNZs: 57, Bias: -1.000112, T: 1453152, Avg. loss: 0.094536\n",
      "Total training time: 0.70 seconds.\n",
      "-- Epoch 4\n",
      "Norm: 8.86, NNZs: 68, Bias: -1.000101, T: 1937536, Avg. loss: 0.094465\n",
      "Total training time: 0.93 seconds.\n",
      "-- Epoch 5\n",
      "Norm: 7.97, NNZs: 63, Bias: -1.000130, T: 2421920, Avg. loss: 0.094423\n",
      "Total training time: 1.17 seconds.\n",
      "-- Epoch 1\n",
      "Norm: 16.56, NNZs: 948, Bias: -1.000233, T: 484384, Avg. loss: 0.110416\n",
      "Total training time: 0.22 seconds.\n",
      "-- Epoch 2\n",
      "Norm: 12.20, NNZs: 103, Bias: -1.000084, T: 968768, Avg. loss: 0.086487\n",
      "Total training time: 0.46 seconds.\n",
      "-- Epoch 3\n",
      "Norm: 10.13, NNZs: 109, Bias: -1.000008, T: 1453152, Avg. loss: 0.086311\n",
      "Total training time: 0.70 seconds.\n",
      "-- Epoch 4\n",
      "Norm: 8.87, NNZs: 115, Bias: -1.000013, T: 1937536, Avg. loss: 0.086222\n",
      "Total training time: 0.93 seconds.\n",
      "-- Epoch 5\n",
      "Norm: 8.00, NNZs: 115, Bias: -1.000013, T: 2421920, Avg. loss: 0.086190\n",
      "Total training time: 1.19 seconds.\n",
      "-- Epoch 1\n",
      "Norm: 16.99, NNZs: 926, Bias: -1.000503, T: 484384, Avg. loss: 0.106289\n",
      "Total training time: 0.23 seconds.\n",
      "-- Epoch 2\n",
      "Norm: 12.72, NNZs: 182, Bias: -1.000150, T: 968768, Avg. loss: 0.074863\n",
      "Total training time: 0.47 seconds.\n",
      "-- Epoch 3\n",
      "Norm: 10.65, NNZs: 189, Bias: -1.000175, T: 1453152, Avg. loss: 0.074509\n",
      "Total training time: 0.71 seconds.\n",
      "-- Epoch 4\n",
      "Norm: 9.38, NNZs: 197, Bias: -0.999923, T: 1937536, Avg. loss: 0.074320\n",
      "Total training time: 0.94 seconds.\n",
      "-- Epoch 5\n",
      "Norm: 8.50, NNZs: 209, Bias: -1.000030, T: 2421920, Avg. loss: 0.074253\n",
      "Total training time: 1.23 seconds.\n",
      "-- Epoch 1\n",
      "Norm: 17.13, NNZs: 839, Bias: -1.000299, T: 484384, Avg. loss: 0.099181\n",
      "Total training time: 0.26 seconds.\n",
      "-- Epoch 2\n",
      "Norm: 12.79, NNZs: 126, Bias: -1.000000, T: 968768, Avg. loss: 0.068902\n",
      "Total training time: 0.55 seconds.\n",
      "-- Epoch 3\n",
      "Norm: 10.67, NNZs: 155, Bias: -1.000081, T: 1453152, Avg. loss: 0.068673\n",
      "Total training time: 0.84 seconds.\n",
      "-- Epoch 4\n",
      "Norm: 9.37, NNZs: 145, Bias: -1.000010, T: 1937536, Avg. loss: 0.068588\n",
      "Total training time: 1.13 seconds.\n",
      "-- Epoch 5\n",
      "Norm: 8.47, NNZs: 153, Bias: -1.000004, T: 2421920, Avg. loss: 0.068535\n",
      "Total training time: 1.42 seconds.\n",
      "-- Epoch 1\n",
      "Norm: 17.24, NNZs: 903, Bias: -1.000687, T: 484384, Avg. loss: 0.098370\n",
      "Total training time: 0.26 seconds.\n",
      "-- Epoch 2\n",
      "Norm: 12.90, NNZs: 100, Bias: -1.000181, T: 968768, Avg. loss: 0.065959\n",
      "Total training time: 0.56 seconds.\n",
      "-- Epoch 3\n",
      "Norm: 10.75, NNZs: 103, Bias: -1.000473, T: 1453152, Avg. loss: 0.065652\n",
      "Total training time: 0.85 seconds.\n",
      "-- Epoch 4\n",
      "Norm: 9.42, NNZs: 83, Bias: -1.000034, T: 1937536, Avg. loss: 0.065530\n",
      "Total training time: 1.15 seconds.\n",
      "-- Epoch 5\n",
      "Norm: 8.48, NNZs: 106, Bias: -1.000214, T: 2421920, Avg. loss: 0.065448\n",
      "Total training time: 1.43 seconds.\n"
     ]
    },
    {
     "name": "stderr",
     "output_type": "stream",
     "text": [
      "[Parallel(n_jobs=1)]: Done  20 out of  20 | elapsed:   27.2s finished\n"
     ]
    },
    {
     "data": {
      "text/plain": [
       "SGDClassifier(alpha=0.0001, average=False, class_weight='balanced',\n",
       "       epsilon=0.1, eta0=0.0, fit_intercept=True, l1_ratio=0.15,\n",
       "       learning_rate='optimal', loss='hinge', max_iter=None, n_iter=None,\n",
       "       n_jobs=1, penalty='elasticnet', power_t=0.5, random_state=None,\n",
       "       shuffle=True, tol=None, verbose=8, warm_start=False)"
      ]
     },
     "execution_count": 33,
     "metadata": {},
     "output_type": "execute_result"
    }
   ],
   "source": [
    "clf_sgd = SGDClassifier(loss='hinge', penalty='elasticnet',\n",
    "                        alpha=0.0001, verbose=8, class_weight='balanced')\n",
    "clf_sgd.fit(X_cv_train, train_Y)"
   ]
  },
  {
   "cell_type": "code",
   "execution_count": 35,
   "metadata": {},
   "outputs": [
    {
     "data": {
      "text/plain": [
       "0.15733797978463368"
      ]
     },
     "execution_count": 35,
     "metadata": {},
     "output_type": "execute_result"
    }
   ],
   "source": [
    "skm.accuracy_score(train_Y, clf_sgd.predict(X_cv_train))"
   ]
  },
  {
   "cell_type": "code",
   "execution_count": null,
   "metadata": {},
   "outputs": [
    {
     "name": "stdout",
     "output_type": "stream",
     "text": [
      "[LibSVM]"
     ]
    }
   ],
   "source": [
    "clf_svm = SVC(class_weight='balanced', verbose=True, random_state=123)\n",
    "clf_svm.fit(X_cv_train, train_Y)\n",
    "skm.accuracy_score(train_Y, clf_svm.predict(X_cv_train))"
   ]
  },
  {
   "cell_type": "code",
   "execution_count": null,
   "metadata": {
    "collapsed": true
   },
   "outputs": [],
   "source": []
  }
 ],
 "metadata": {
  "_draft": {
   "nbviewer_url": "https://gist.github.com/05386303a854e0c2643d86fb16991f94"
  },
  "gist": {
   "data": {
    "description": "explore_dataset.ipynb",
    "public": true
   },
   "id": "05386303a854e0c2643d86fb16991f94"
  },
  "kernelspec": {
   "display_name": "Python 2",
   "language": "python",
   "name": "python2"
  },
  "language_info": {
   "codemirror_mode": {
    "name": "ipython",
    "version": 2
   },
   "file_extension": ".py",
   "mimetype": "text/x-python",
   "name": "python",
   "nbconvert_exporter": "python",
   "pygments_lexer": "ipython2",
   "version": "2.7.14"
  }
 },
 "nbformat": 4,
 "nbformat_minor": 2
}
